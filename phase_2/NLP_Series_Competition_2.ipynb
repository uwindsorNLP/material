{
  "nbformat": 4,
  "nbformat_minor": 0,
  "metadata": {
    "colab": {
      "provenance": [],
      "gpuType": "T4"
    },
    "kernelspec": {
      "name": "python3",
      "display_name": "Python 3"
    },
    "language_info": {
      "name": "python"
    },
    "accelerator": "GPU"
  },
  "cells": [
    {
      "cell_type": "code",
      "source": [
        "from sentence_transformers import SentenceTransformer\n",
        "import pandas as pd\n",
        "from scipy import stats"
      ],
      "metadata": {
        "id": "9ex8FxUzRPp6"
      },
      "execution_count": 1,
      "outputs": []
    },
    {
      "cell_type": "code",
      "source": [
        "df_test = pd.read_csv(\"wordsim353crowd.csv\")\n",
        "df_test['Human (Mean)']/=df_test['Human (Mean)'].max()\n",
        "first_col = df_test['Word 1']\n",
        "second_col = df_test['Word 2']\n",
        "gt_list = df_test['Human (Mean)']"
      ],
      "metadata": {
        "id": "SzQ0LS_KRR_L"
      },
      "execution_count": 2,
      "outputs": []
    },
    {
      "cell_type": "code",
      "source": [
        "model = SentenceTransformer('')\n",
        "encode1 = model.encode(first_col)\n",
        "encode2 = model.encode(second_col)\n",
        "predictions = model.similarity_pairwise(encode1, encode2)\n",
        "spearmanr_score = stats.spearmanr(predictions, gt_list)\n",
        "print(f'spearmanr_score: {spearmanr_score.statistic}')"
      ],
      "metadata": {
        "id": "fFRAuHffBbU2"
      },
      "execution_count": null,
      "outputs": []
    }
  ]
}
