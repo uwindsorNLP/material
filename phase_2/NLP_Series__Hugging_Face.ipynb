{
  "nbformat": 4,
  "nbformat_minor": 0,
  "metadata": {
    "colab": {
      "provenance": []
    },
    "kernelspec": {
      "name": "python3",
      "display_name": "Python 3"
    },
    "language_info": {
      "name": "python"
    }
  },
  "cells": [
    {
      "cell_type": "markdown",
      "source": [
        "# Step 0: Importing Required Packages\n",
        "\n"
      ],
      "metadata": {
        "id": "V5aO7GAJodY-"
      }
    },
    {
      "cell_type": "code",
      "source": [
        "import pandas as pd\n",
        "from scipy import stats\n",
        "from transformers import pipeline"
      ],
      "metadata": {
        "id": "kp3Verrpoovo"
      },
      "execution_count": 2,
      "outputs": []
    },
    {
      "cell_type": "markdown",
      "source": [
        "# Text Classification\n"
      ],
      "metadata": {
        "id": "JVnUdpRU-jnk"
      }
    },
    {
      "cell_type": "code",
      "source": [
        "textclassifier = pipeline(task=\"text-classification\")\n",
        "print(textclassifier(\"The movie was good\"))\n",
        "\n",
        "# Challenge: Confuse the model! Find an input that makes the model produce the score (confidence) below 0.6"
      ],
      "metadata": {
        "id": "Yu6LmrxH-j-F"
      },
      "execution_count": null,
      "outputs": []
    },
    {
      "cell_type": "markdown",
      "source": [
        "# Token Classification"
      ],
      "metadata": {
        "id": "IoyCeqHS3qMM"
      }
    },
    {
      "cell_type": "code",
      "source": [
        "classifier = pipeline(task=\"token-classification\")\n",
        "print(classifier(\"Hello I'm Omar and I live in Zürich.\"))\n",
        "\n",
        "# Challenge: Searching or Trying? Find 5 more entity types (e.g., \"I-PER\", \"I-LOC\", etc.)"
      ],
      "metadata": {
        "id": "FnSR3o-Z3uiO"
      },
      "execution_count": null,
      "outputs": []
    },
    {
      "cell_type": "markdown",
      "source": [
        "# Fill Mask"
      ],
      "metadata": {
        "id": "GL4XK7qM4T__"
      }
    },
    {
      "cell_type": "code",
      "source": [
        "classifier = pipeline(\"fill-mask\")\n",
        "print(classifier(\"Paris is the <mask> of France.\"))\n",
        "\n",
        "# Challenge: Undercover: try to increase masked words to see the model behaviour"
      ],
      "metadata": {
        "id": "J4O6s4BO_zR2"
      },
      "execution_count": null,
      "outputs": []
    },
    {
      "cell_type": "markdown",
      "source": [
        "# Table Question Answering"
      ],
      "metadata": {
        "id": "ckLX3ZQK3vYk"
      }
    },
    {
      "cell_type": "code",
      "source": [
        "tqa = pipeline(task=\"table-question-answering\")\n",
        "data = {\"Actors\": [\"Brad Pitt\", \"Leonardo Di Caprio\", \"George Clooney\"], \"Number of movies\": [\"87\", \"53\", \"69\"]}\n",
        "table = pd.DataFrame.from_dict(data)\n",
        "question = \"how many movies does Leonardo Di Caprio have?\"\n",
        "print(tqa(table=table, query=question)['cells'][0])\n",
        "\n",
        "# Challenge: Predictable model! How many different answers we might see?"
      ],
      "metadata": {
        "id": "NR66JwBn_YN9"
      },
      "execution_count": null,
      "outputs": []
    },
    {
      "cell_type": "markdown",
      "source": [
        "# Question Answering"
      ],
      "metadata": {
        "id": "JCVdqHEx36DK"
      }
    },
    {
      "cell_type": "code",
      "source": [
        "qa = pipeline(task=\"question-answering\")\n",
        "context = \"Brad Pitt has 87, Leonardo Di Caprio has 53, and George Clooney has 69 movies.\"\n",
        "question = \"how many movies does Leonardo Di Caprio have?\"\n",
        "print(qa(question = question, context = context))\n",
        "\n",
        "# Challenge: Let's take a deeper look! See the architecture of the model by calling .model.config"
      ],
      "metadata": {
        "id": "vFimLtABAmZp"
      },
      "execution_count": null,
      "outputs": []
    },
    {
      "cell_type": "markdown",
      "source": [
        "# Zero-Shot Classification"
      ],
      "metadata": {
        "id": "tCMDdwmC3-cO"
      }
    },
    {
      "cell_type": "code",
      "source": [
        "zsc = pipeline(task=\"zero-shot-classification\")\n",
        "print(zsc(\"Inception is the best movie ever\",\n",
        "    candidate_labels=[\"CINEMA\", \"MUSIC\", \"ART\"],\n",
        "))\n",
        "\n",
        "# Challenge: Unique English words! What is the vocab_size of the Tokenizer used by zsc?"
      ],
      "metadata": {
        "id": "SmgMZOwMCpo3"
      },
      "execution_count": null,
      "outputs": []
    },
    {
      "cell_type": "markdown",
      "source": [
        "# Translation"
      ],
      "metadata": {
        "id": "XJSzVq3D3-5B"
      }
    },
    {
      "cell_type": "code",
      "source": [
        "en_fr_translator = pipeline(task=\"translation_en_to_fr\")\n",
        "en_fr_translator(\"How far is the closest city?\")\n",
        "\n",
        "# Challenge: Multilinguality! How many languages does this task support?"
      ],
      "metadata": {
        "id": "PN-skZoTQvoM"
      },
      "execution_count": null,
      "outputs": []
    },
    {
      "cell_type": "markdown",
      "source": [
        "# Summarization"
      ],
      "metadata": {
        "id": "qKpidDL63_Tj"
      }
    },
    {
      "cell_type": "code",
      "source": [
        "summarizer = pipeline(task=\"summarization\")\n",
        "summarizer(\"Paris is the capital and most populous city of France, with an estimated population of 2,175,601 residents as of 2018, in an area of more than 105 square kilometres (41 square miles). The City of Paris is the centre and seat of government of the region and province of Île-de-France, or Paris Region, which has an estimated population of 12,174,880, or about 18 percent of the population of France as of 2017.\")\n",
        "\n",
        "# Challenge: SHORTEEERRR! Force the model to keep the summary under 10 words."
      ],
      "metadata": {
        "id": "c2OwVJR4h1mX"
      },
      "execution_count": null,
      "outputs": []
    },
    {
      "cell_type": "markdown",
      "source": [
        "# Text Generation"
      ],
      "metadata": {
        "id": "_SX5Dv4S4Mku"
      }
    },
    {
      "cell_type": "code",
      "source": [
        "generator = pipeline(task=\"text-generation\")\n",
        "generator(\"Hello, I'm a student at\", num_return_sequences=2)\n",
        "\n",
        "# Challenge: Lullaby! Force the model to tell you a single long story."
      ],
      "metadata": {
        "id": "jks7ZwRwrcYx"
      },
      "execution_count": null,
      "outputs": []
    },
    {
      "cell_type": "markdown",
      "source": [
        "# Feature Extraction"
      ],
      "metadata": {
        "id": "kU4XF3By4KTA"
      }
    },
    {
      "cell_type": "code",
      "source": [
        "feature_extractor = pipeline(\"feature-extraction\", framework=\"pt\")\n",
        "text = \"Transformers is an awesome library!\"\n",
        "feature_extractor(text,return_tensors = \"pt\")[0].numpy().mean(axis=0)\n",
        "\n",
        "# Challenge: Does fraework matter? pt stands for PyTorch. Will we get the same output if we use TensorFlow?"
      ],
      "metadata": {
        "id": "yYaMZA32j6HA"
      },
      "execution_count": null,
      "outputs": []
    },
    {
      "cell_type": "markdown",
      "source": [
        "# Sentence Similarity"
      ],
      "metadata": {
        "id": "FFQCQwf54Xz-"
      }
    },
    {
      "cell_type": "code",
      "source": [
        "from sentence_transformers import SentenceTransformer\n",
        "\n",
        "model = SentenceTransformer(\"all-MiniLM-L6-v2\")\n",
        "sentences = [\n",
        "    \"Competition day is next week\",\n",
        "    \"Mastering this will greatly help\"]\n",
        "\n",
        "embeddings = model.encode(sentences)\n",
        "similarities = model.similarity(embeddings, embeddings)\n",
        "print(similarities)\n",
        "\n",
        "\n",
        "# Challenges:\n",
        "    # What was different for this task? Try pipeline('sentece-similarity')\n",
        "    # Try to add more sentences\n",
        "    # what is the vector size (embedding dimension)?\n",
        "    # Try words instead of sentences"
      ],
      "metadata": {
        "id": "Bobqp8TPBpof"
      },
      "execution_count": null,
      "outputs": []
    }
  ]
}